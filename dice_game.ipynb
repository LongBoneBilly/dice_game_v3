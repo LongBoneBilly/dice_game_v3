{
 "cells": [
  {
   "cell_type": "code",
   "execution_count": null,
   "id": "a4eb04c2",
   "metadata": {},
   "outputs": [],
   "source": [
    "#Doing my best Refactoring \n",
    "import random\n",
    "\n",
    "def diceroll():\n",
    "    return random.randint(1,6)\n",
    "\n",
    "def dice_game():\n",
    "    while True:\n",
    "        user_input=int(input(\"Welcome to Dice Roll!!! Pick a number 1 through 6: \"))\n",
    "    \n",
    "        if 1<=user_input<=6:\n",
    "            dice=[diceroll() for _ in range(5)]\n",
    "            print(\"Dice:\", dice) \n",
    "            matches_played = dice.count(user_input)\n",
    "            print(f\"Dice mathced with {matches_played}.\") #Refactoring is happening right here \n",
    "        \n",
    "        else:\n",
    "            print(\"Invalid input. Pick a number 1, 2, 3, 4, 5, or 6.\")\n",
    "        play_again=input(\"Want to play again? If yes press y or n for no.\") #I was able to condense the def again() to these two lines \n",
    "        if play_again.lower() != \"y\":\n",
    "            print(\"Adios, play again soon!!!\")\n",
    "            break\n",
    "dice_game() #I was not able to refactor the code to make it shorter"
   ]
  }
 ],
 "metadata": {
  "kernelspec": {
   "display_name": "Python 3 (ipykernel)",
   "language": "python",
   "name": "python3"
  },
  "language_info": {
   "codemirror_mode": {
    "name": "ipython",
    "version": 3
   },
   "file_extension": ".py",
   "mimetype": "text/x-python",
   "name": "python",
   "nbconvert_exporter": "python",
   "pygments_lexer": "ipython3",
   "version": "3.11.5"
  }
 },
 "nbformat": 4,
 "nbformat_minor": 5
}
